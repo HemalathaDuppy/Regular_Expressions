{
  "nbformat": 4,
  "nbformat_minor": 0,
  "metadata": {
    "colab": {
      "provenance": [],
      "authorship_tag": "ABX9TyPN/3ErXk1uiSZP5MlirbAI",
      "include_colab_link": true
    },
    "kernelspec": {
      "name": "python3",
      "display_name": "Python 3"
    },
    "language_info": {
      "name": "python"
    }
  },
  "cells": [
    {
      "cell_type": "markdown",
      "metadata": {
        "id": "view-in-github",
        "colab_type": "text"
      },
      "source": [
        "<a href=\"https://colab.research.google.com/github/HemalathaDuppy/Regular_Expressions/blob/main/30Q_Solutions_on_Regular_Expressions.ipynb\" target=\"_parent\"><img src=\"https://colab.research.google.com/assets/colab-badge.svg\" alt=\"Open In Colab\"/></a>"
      ]
    },
    {
      "cell_type": "code",
      "execution_count": 1,
      "metadata": {
        "colab": {
          "base_uri": "https://localhost:8080/"
        },
        "id": "F7jy0-zlG0EN",
        "outputId": "714e1978-7714-4645-ff43-6cbd3a1a8535"
      },
      "outputs": [
        {
          "output_type": "stream",
          "name": "stdout",
          "text": [
            "GOOD string\n",
            "BAD string\n",
            "GOOD string\n",
            "BAD string\n"
          ]
        }
      ],
      "source": [
        "#1.Write a Python program to check that a string contains only a certain set of characters (in this case A-Pand 5-9)\n",
        "import re\n",
        "def check_string(n):\n",
        "  rn = r'^[A-P-p5-9]+$'\n",
        "  if re.fullmatch(rn, n):\n",
        "    return (\"GOOD string\")\n",
        "  else:\n",
        "    return (\"BAD string\")\n",
        "print(check_string(\"ABCP579\"))\n",
        "print(check_string(\"ABQ579\"))\n",
        "print(check_string(\"A9P\"))\n",
        "print(check_string(\"a5P\"))"
      ]
    },
    {
      "cell_type": "code",
      "source": [
        "#2.Write a Python program that matches a string that has an ‘a’ followed by zero or more k's\n",
        "import re\n",
        "def match_ak(str1):\n",
        "        ak = 'a(k*)'\n",
        "        if re.search(ak,str1):\n",
        "          return (\"Match Found\")\n",
        "        else:\n",
        "          return (\"No Match\")\n",
        "print(match_ak(\"a\"))\n",
        "print(match_ak(\"ak\"))\n",
        "print(match_ak(\"akkk\"))\n",
        "print(match_ak(\"b\"))\n",
        "print(match_ak(\"akkp\"))"
      ],
      "metadata": {
        "colab": {
          "base_uri": "https://localhost:8080/"
        },
        "id": "zLmgfqhJHDLD",
        "outputId": "a4fe245e-1daf-45c9-fe4d-8bad241194d6"
      },
      "execution_count": 2,
      "outputs": [
        {
          "output_type": "stream",
          "name": "stdout",
          "text": [
            "Match Found\n",
            "Match Found\n",
            "Match Found\n",
            "No Match\n",
            "Match Found\n"
          ]
        }
      ]
    },
    {
      "cell_type": "code",
      "source": [
        "#3.Write a Python program that matches a string that has an ‘a’ followed by one or more p's\n",
        "import re\n",
        "def match_app(str1):\n",
        "        ak = 'ap(p*)'\n",
        "        if re.search(ak,str1):\n",
        "          return (\"Match Found\")\n",
        "        else:\n",
        "          return (\"No Match\")\n",
        "print(match_app(\"ap\"))\n",
        "print(match_app(\"appp\"))\n",
        "print(match_app(\"a\"))"
      ],
      "metadata": {
        "colab": {
          "base_uri": "https://localhost:8080/"
        },
        "id": "LaCNyjTyHKGz",
        "outputId": "0151dd3a-8348-46d8-c3ed-e1a68a64a6f8"
      },
      "execution_count": 3,
      "outputs": [
        {
          "output_type": "stream",
          "name": "stdout",
          "text": [
            "Match Found\n",
            "Match Found\n",
            "No Match\n"
          ]
        }
      ]
    },
    {
      "cell_type": "code",
      "source": [
        "#4.Write a Python program that matches a string that has an ‘a’ followed by zero or one z's\n",
        "import re\n",
        "def match_az(str1):\n",
        "        az = 'a(z?)'\n",
        "        if re.search(az,str1):\n",
        "          return (\"Match Found\")\n",
        "        else:\n",
        "          return (\"No Match\")\n",
        "print(match_az(\"a\"))\n",
        "print(match_az(\"az\"))\n",
        "print(match_az(\"azz\"))"
      ],
      "metadata": {
        "colab": {
          "base_uri": "https://localhost:8080/"
        },
        "id": "0dsgnNEWHPtW",
        "outputId": "e0e7e001-2503-43b3-fade-15ced06a5ac1"
      },
      "execution_count": 4,
      "outputs": [
        {
          "output_type": "stream",
          "name": "stdout",
          "text": [
            "Match Found\n",
            "Match Found\n",
            "Match Found\n"
          ]
        }
      ]
    },
    {
      "cell_type": "code",
      "source": [
        "#5.Write a python program that matches string that has an 'a' followed by 3 'h' only not 4\n",
        "import re\n",
        "def match_ahh(text):\n",
        "    pattern = r\"ah{3}\"\n",
        "    match = re.search(pattern, text)\n",
        "    if match:\n",
        "        return \"Match Found\"\n",
        "    else:\n",
        "        return \"No Match\"\n",
        "print(match_ahh(\"ahhh\"))\n",
        "print(match_ahh(\"ahh\"))\n",
        "print(match_ahh(\"ahhhh\"))"
      ],
      "metadata": {
        "colab": {
          "base_uri": "https://localhost:8080/"
        },
        "id": "qeZv3NBlHUSi",
        "outputId": "4679814e-9472-40d4-8d1d-ecfa03d0942e"
      },
      "execution_count": 5,
      "outputs": [
        {
          "output_type": "stream",
          "name": "stdout",
          "text": [
            "Match Found\n",
            "No Match\n",
            "Match Found\n"
          ]
        }
      ]
    },
    {
      "cell_type": "code",
      "source": [
        "#6.Write a python program that matches string that has an 'a' followed by two to three 'b'\n",
        "import re\n",
        "def match_abb(text):\n",
        "    pattern = r\"ab{2,3}\"\n",
        "    match = re.search(pattern, text)\n",
        "    if match:\n",
        "        return \"Match Found\"\n",
        "    else:\n",
        "        return \"No Match\"\n",
        "print(match_abb(\"abb\"))\n",
        "print(match_abb(\"abbb\"))\n",
        "print(match_abb(\"ab\"))"
      ],
      "metadata": {
        "colab": {
          "base_uri": "https://localhost:8080/"
        },
        "id": "1fdQB0NIHXbK",
        "outputId": "84a07b42-28e3-420a-b458-fde2758d9d74"
      },
      "execution_count": 6,
      "outputs": [
        {
          "output_type": "stream",
          "name": "stdout",
          "text": [
            "Match Found\n",
            "Match Found\n",
            "No Match\n"
          ]
        }
      ]
    },
    {
      "cell_type": "code",
      "source": [
        "#7.Write a Python program to find sequences of lowercase letters joined with an underscore.\n",
        "import re\n",
        "def extract_lowercase_underscore(text):\n",
        "    pattern = r\"[a-z]+_[a-z]+\"\n",
        "    match = re.search(pattern, text)\n",
        "    if match:\n",
        "        return \"Match Found\"\n",
        "    else:\n",
        "        return \"No Match\"\n",
        "print(extract_lowercase_underscore(\"hello_world\"))\n",
        "print(extract_lowercase_underscore(\"HELLO_world\"))\n",
        "print(extract_lowercase_underscore(\"hi_SARA\"))\n",
        "print(extract_lowercase_underscore(\"hi sara\"))\n",
        "print(extract_lowercase_underscore(\"cse_e\"))\n",
        ""
      ],
      "metadata": {
        "colab": {
          "base_uri": "https://localhost:8080/"
        },
        "id": "dILxWkMgHpQl",
        "outputId": "18671c1e-3f74-49f9-91d0-35e9a5836c19"
      },
      "execution_count": 7,
      "outputs": [
        {
          "output_type": "stream",
          "name": "stdout",
          "text": [
            "Match Found\n",
            "No Match\n",
            "No Match\n",
            "No Match\n",
            "Match Found\n"
          ]
        }
      ]
    },
    {
      "cell_type": "code",
      "source": [
        "#8. Write a Python program to find the sequences of one upper case letter followed by lower case letters.\n",
        "import re\n",
        "def match_upper_lower(text):\n",
        "    pattern = r\"[A-Z][a-z]+\"\n",
        "    match = re.search(pattern, text)\n",
        "    if match:\n",
        "        return \"Match Found\"\n",
        "    else:\n",
        "        return \"No Match\"\n",
        "print(match_upper_lower(\"Hello\"))\n",
        "print(match_upper_lower(\"hello\"))\n",
        "print(match_upper_lower(\"HELLO\"))\n",
        ""
      ],
      "metadata": {
        "colab": {
          "base_uri": "https://localhost:8080/"
        },
        "id": "bXuzgwPuH9yO",
        "outputId": "c7722083-52d5-4ebc-dce4-5a7d7129acad"
      },
      "execution_count": 8,
      "outputs": [
        {
          "output_type": "stream",
          "name": "stdout",
          "text": [
            "Match Found\n",
            "No Match\n",
            "No Match\n"
          ]
        }
      ]
    },
    {
      "cell_type": "code",
      "source": [
        "#9.Write a Python program that matches a string that has an 'a' followed by anything, ending in 'a'.\n",
        "import re\n",
        "def match_a_anything_a(text):\n",
        "    pattern = r\"a.*a$\"\n",
        "    match = re.match(pattern, text)\n",
        "    if match:\n",
        "        return \"Match Found\"\n",
        "    else:\n",
        "        return \"No Match\"\n",
        "print(match_a_anything_a(\"abcda\"))\n",
        "print(match_a_anything_a(\"a123a\"))\n",
        "print(match_a_anything_a(\"a\"))\n",
        "print(match_a_anything_a(\"ab\"))"
      ],
      "metadata": {
        "colab": {
          "base_uri": "https://localhost:8080/"
        },
        "id": "vCWZh01vIBLD",
        "outputId": "5a31a3e4-7091-4b1b-c909-e011c2ead602"
      },
      "execution_count": 9,
      "outputs": [
        {
          "output_type": "stream",
          "name": "stdout",
          "text": [
            "Match Found\n",
            "Match Found\n",
            "No Match\n",
            "No Match\n"
          ]
        }
      ]
    },
    {
      "cell_type": "code",
      "source": [
        "#10.Write a Python program that matches only words made of letters at the beginning of a string.\n",
        "import re\n",
        "def match_word_start(s):\n",
        "  p=r'^[a-zA-Z]+'\n",
        "  if re.match(p,s):\n",
        "    return (\"Match Found\")\n",
        "  else:\n",
        "    return (\"No match\")\n",
        "print(match_word_start(\"Hello world\"))\n",
        "print(match_word_start(\"!123hi\"))\n",
        "print(match_word_start(\"123hello\"))"
      ],
      "metadata": {
        "colab": {
          "base_uri": "https://localhost:8080/"
        },
        "id": "L0kfsZDtIFhZ",
        "outputId": "0d57ee2b-4713-4ee3-d2db-ac898063f4d9"
      },
      "execution_count": 10,
      "outputs": [
        {
          "output_type": "stream",
          "name": "stdout",
          "text": [
            "Match Found\n",
            "No match\n",
            "No match\n"
          ]
        }
      ]
    },
    {
      "cell_type": "code",
      "source": [
        "#11.Write a Python program that matches only words made of letters and numbers at the end of a string.\n",
        "import re\n",
        "def match_word_end(s):\n",
        "  p=r\"[a-zA-Z0-9]+$\"\n",
        "  if re.search(p,s):\n",
        "    return (\"Match Found\")\n",
        "  else:\n",
        "    return (\"No match\")\n",
        "print(match_word_end(\"Hello world\"))\n",
        "print(match_word_end(\"12345\"))\n",
        "print(match_word_end(\"Done!\"))"
      ],
      "metadata": {
        "colab": {
          "base_uri": "https://localhost:8080/"
        },
        "id": "wyAX1P0FIIqW",
        "outputId": "34336cfd-f88e-423a-b37b-1ad5fce70f32"
      },
      "execution_count": 11,
      "outputs": [
        {
          "output_type": "stream",
          "name": "stdout",
          "text": [
            "Match Found\n",
            "Match Found\n",
            "No match\n"
          ]
        }
      ]
    },
    {
      "cell_type": "code",
      "source": [
        "#12.Write a Python program that matches a word containing 'z'.\n",
        "import re\n",
        "def match_word_z(s):\n",
        "  p=r\"[z]\"\n",
        "  if re.findall(p,s):\n",
        "    return s\n",
        "  else:\n",
        "    return (\"(empty)\")\n",
        "print(match_word_z(\"buzzing bee\"))\n",
        "print(match_word_z(\"hello world\"))\n",
        "print(match_word_z(\"zebra\"))"
      ],
      "metadata": {
        "colab": {
          "base_uri": "https://localhost:8080/"
        },
        "id": "LvcLPy-CILpq",
        "outputId": "4bda35a1-23aa-40b6-d6e6-301823d8edfe"
      },
      "execution_count": 12,
      "outputs": [
        {
          "output_type": "stream",
          "name": "stdout",
          "text": [
            "buzzing bee\n",
            "(empty)\n",
            "zebra\n"
          ]
        }
      ]
    },
    {
      "cell_type": "code",
      "source": [
        "#13.Write a Python program that matches a word containing 'i', not at start not at the end of the string.\n",
        "import re\n",
        "def match_i_not_start_end(s):\n",
        "    pattern = r\"^[a-z]+i[a-z]+$\"\n",
        "    words = s.split()\n",
        "    for word in words:\n",
        "        if re.match(pattern, word):\n",
        "            return s\n",
        "    return \"(empty)\"\n",
        "print(match_i_not_start_end(\"driving fast\"))\n",
        "print(match_i_not_start_end(\"ice cream\"))\n",
        "print(match_i_not_start_end(\"hi hello\"))"
      ],
      "metadata": {
        "colab": {
          "base_uri": "https://localhost:8080/"
        },
        "id": "dlEn9faVIO7K",
        "outputId": "d39c6a40-6306-4150-f4ed-5280ad1bbfef"
      },
      "execution_count": 13,
      "outputs": [
        {
          "output_type": "stream",
          "name": "stdout",
          "text": [
            "driving fast\n",
            "(empty)\n",
            "(empty)\n"
          ]
        }
      ]
    },
    {
      "cell_type": "code",
      "source": [
        "#14.Write a Python program to match a string that contains upper and lowercase letters, numbers and underscore only.\n",
        "import re\n",
        "def match_alnum_underscore(s):\n",
        "  p=r'^[a-zA-Z0-9]+_[a-zA-Z0-9]+$'\n",
        "  if re.findall(p,s):\n",
        "    return s\n",
        "  else:\n",
        "    return (\"(empty)\")\n",
        "print(match_alnum_underscore(\"Valid_name\"))\n",
        "print(match_alnum_underscore(\"!invalid_name\"))"
      ],
      "metadata": {
        "colab": {
          "base_uri": "https://localhost:8080/"
        },
        "id": "sr2t2XB7ISUm",
        "outputId": "85999d9f-db9f-4e65-efba-f26fb9df0a21"
      },
      "execution_count": 14,
      "outputs": [
        {
          "output_type": "stream",
          "name": "stdout",
          "text": [
            "Valid_name\n",
            "(empty)\n"
          ]
        }
      ]
    },
    {
      "cell_type": "code",
      "source": [
        "#15.Write a Python program that starts with 8.\n",
        "import re\n",
        "def s8(s):\n",
        "  p=r'^8'\n",
        "  if re.match(p,s):\n",
        "    return \"Starts with 8\"\n",
        "  else:\n",
        "    return \"Does not start with 8\"\n",
        "print(s8(\"8hello\"))\n",
        "print(s8(\"hello\"))"
      ],
      "metadata": {
        "colab": {
          "base_uri": "https://localhost:8080/"
        },
        "id": "YKXPRpbEIWKy",
        "outputId": "bf7d990d-2f42-40ec-8b2e-29ad6039fc83"
      },
      "execution_count": 15,
      "outputs": [
        {
          "output_type": "stream",
          "name": "stdout",
          "text": [
            "Starts with 8\n",
            "Does not start with 8\n"
          ]
        }
      ]
    },
    {
      "cell_type": "code",
      "source": [
        "#16.Write a Python program to remove leading zeros from an IP address.\n",
        "import re\n",
        "def remove_leading_zeros(ip):\n",
        "    return re.sub(r'\\b0+(\\d)', r'\\1', ip)\n",
        "print(remove_leading_zeros(\"192.168.001.001\"))\n",
        "print(remove_leading_zeros(\"127.000.000.001\"))\n",
        "print(remove_leading_zeros(\"010.000.100.050\"))"
      ],
      "metadata": {
        "colab": {
          "base_uri": "https://localhost:8080/"
        },
        "id": "KAgHKm7hIbPL",
        "outputId": "407ae21c-89ab-49bc-f9ab-9ba8631ecf46"
      },
      "execution_count": 16,
      "outputs": [
        {
          "output_type": "stream",
          "name": "stdout",
          "text": [
            "192.168.1.1\n",
            "127.0.0.1\n",
            "10.0.100.50\n"
          ]
        }
      ]
    },
    {
      "cell_type": "code",
      "source": [
        "#17.Write a Python program to check for an underscore at the end of a string.\n",
        "import re\n",
        "def us(s):\n",
        "  p=r\"[_]$\"\n",
        "  if re.search(p,s):\n",
        "    return(\"Ends with underscore\")\n",
        "  else:\n",
        "    return(\"Does not end with underscore\")\n",
        "print(us(\"Date_\"))\n",
        "print(us(\"Day\"))\n",
        "print(us(\"Month_\"))\n",
        "print(us(\"Year!\"))"
      ],
      "metadata": {
        "colab": {
          "base_uri": "https://localhost:8080/"
        },
        "id": "SRcPC_2EIfmj",
        "outputId": "30c9b49f-f5f6-402d-8baf-8192e9133475"
      },
      "execution_count": 17,
      "outputs": [
        {
          "output_type": "stream",
          "name": "stdout",
          "text": [
            "Ends with underscore\n",
            "Does not end with underscore\n",
            "Ends with underscore\n",
            "Does not end with underscore\n"
          ]
        }
      ]
    },
    {
      "cell_type": "code",
      "source": [
        "#18.Write a Python program to search the numbers(0-9) of length between 1 to 3 for a given string.\n",
        "import re\n",
        "def find_numbers_1_to_3_digits(s):\n",
        "    pattern = r'\\b\\d{1,3}\\b'\n",
        "    return re.findall(pattern, s)\n",
        "print(find_numbers_1_to_3_digits(\"My numbers are 7, 45, 123, and 4567.\"))\n",
        "print(find_numbers_1_to_3_digits(\"Code 004 and 009 are errors, but 9999 is fine.\"))\n",
        "print(find_numbers_1_to_3_digits(\"No numbers here.\"))"
      ],
      "metadata": {
        "colab": {
          "base_uri": "https://localhost:8080/"
        },
        "id": "5Q7ccm9oIo2b",
        "outputId": "7d3e1cca-ff9b-4373-b766-e1f2db373b01"
      },
      "execution_count": 18,
      "outputs": [
        {
          "output_type": "stream",
          "name": "stdout",
          "text": [
            "['7', '45', '123']\n",
            "['004', '009']\n",
            "[]\n"
          ]
        }
      ]
    },
    {
      "cell_type": "code",
      "source": [
        "#19. Write a Python program to search a set of strings in a given string. Sample text : 'Flowers are among the ecosystem’s most important and beautiful parts.My favourite flower is the rose amongst all the other flowers! A red rose is the most attractive flower to look at. The name of the flower ‘rose’ originates from\n",
        "#the Latin word ‘Rosa’.' Searched for words : 'flower', ‘rose’.\n",
        "import re\n",
        "\n",
        "def search_words(text, words):\n",
        "    pattern = r'\\b(?:' + '|'.join(words) + r')\\b'\n",
        "    matches = re.findall(pattern, text, re.IGNORECASE)\n",
        "    return matches\n",
        "text = 'Flowers are among the ecosystem’s most important and beautiful parts. My favourite flower is the rose amongst all the other flowers! A red rose is the most attractive flower to look at. The name of the flower ‘rose’ originates from the Latin word ‘Rosa’.'\n",
        "words_to_search = ['flower', 'rose']\n",
        "found_words = search_words(text, words_to_search)\n",
        "print(\"Matched words:\", found_words)\n",
        "print(\"Count:\", len(found_words))"
      ],
      "metadata": {
        "colab": {
          "base_uri": "https://localhost:8080/"
        },
        "id": "uQFcXQWQIsZa",
        "outputId": "a61026d3-364c-49b7-eac3-80c3c8a0221d"
      },
      "execution_count": 19,
      "outputs": [
        {
          "output_type": "stream",
          "name": "stdout",
          "text": [
            "Matched words: ['flower', 'rose', 'rose', 'flower', 'flower', 'rose']\n",
            "Count: 6\n"
          ]
        }
      ]
    },
    {
      "cell_type": "code",
      "source": [
        "#20.Write a Python program to search a literals string in a string and also find the location within the original string where the pattern occurs.Sample text : 'Flowers are among the ecosystem’s most important and beautiful parts. My favourite flower is the rose amongst all the other flowers!\n",
        "#A red rose is the most attractive flower to look at. The name of the flower ‘rose’ originates from the Latin word ‘Rosa’.' Searched for word :‘rose’.\n",
        "import re\n",
        "def find_word_locations(text, word):\n",
        "    pattern = r'\\b' + re.escape(word) + r'\\b'\n",
        "    matches = re.finditer(pattern, text, re.IGNORECASE)\n",
        "\n",
        "    result = []\n",
        "    for match in matches:\n",
        "        result.append({\n",
        "            'word': match.group(),\n",
        "            'start': match.start(),\n",
        "            'end': match.end()\n",
        "        })\n",
        "    return result\n",
        "results = find_word_locations(text, 'rose')\n",
        "for entry in results:\n",
        "    print(entry)"
      ],
      "metadata": {
        "colab": {
          "base_uri": "https://localhost:8080/"
        },
        "id": "q8_n-GlFIvh2",
        "outputId": "ca1c353f-bd24-4079-d56f-6c222968d9d2"
      },
      "execution_count": 20,
      "outputs": [
        {
          "output_type": "stream",
          "name": "stdout",
          "text": [
            "{'word': 'rose', 'start': 97, 'end': 101}\n",
            "{'word': 'rose', 'start': 139, 'end': 143}\n",
            "{'word': 'rose', 'start': 210, 'end': 214}\n"
          ]
        }
      ]
    },
    {
      "cell_type": "code",
      "source": [
        "#21.Write a Python program to find the substrings within a string. Sample text :'Python exercises, C exercises, Java exercises' Pattern : 'exercises'.\n",
        "import re\n",
        "def find_substrings(text, pattern):\n",
        "    return re.findall(pattern, text, re.IGNORECASE)\n",
        "\n",
        "text = 'Python exercises, C exercises, Java exercises'\n",
        "pattern = 'exercises'\n",
        "results = find_substrings(text, pattern)\n",
        "print(results)"
      ],
      "metadata": {
        "colab": {
          "base_uri": "https://localhost:8080/"
        },
        "id": "R3i9s5C7I0cx",
        "outputId": "942cf141-9293-47b4-dd8a-cbd0ba3622e5"
      },
      "execution_count": 21,
      "outputs": [
        {
          "output_type": "stream",
          "name": "stdout",
          "text": [
            "['exercises', 'exercises', 'exercises']\n"
          ]
        }
      ]
    },
    {
      "cell_type": "code",
      "source": [
        "#22.Write a Python program to find the occurrence and starting position of the substrings within a string.\n",
        "import re\n",
        "\n",
        "def find_occurrences(text, pattern):\n",
        "    matches = re.finditer(re.escape(pattern), text, re.IGNORECASE)\n",
        "    result = {}\n",
        "    for i, match in enumerate(matches, start=1):\n",
        "        result[f\"occurrence_{i}\"] = {'match': match.group(), 'start': match.start()}\n",
        "    return result\n",
        "\n",
        "text = 'Python exercises, C exercises, Java exercises'\n",
        "pattern = 'exercises'\n",
        "results = find_occurrences(text, pattern)\n",
        "print(results)"
      ],
      "metadata": {
        "colab": {
          "base_uri": "https://localhost:8080/"
        },
        "id": "cZ5inou5I3z5",
        "outputId": "e161883e-c302-49fa-86f5-aa100edd84bb"
      },
      "execution_count": 22,
      "outputs": [
        {
          "output_type": "stream",
          "name": "stdout",
          "text": [
            "{'occurrence_1': {'match': 'exercises', 'start': 7}, 'occurrence_2': {'match': 'exercises', 'start': 20}, 'occurrence_3': {'match': 'exercises', 'start': 36}}\n"
          ]
        }
      ]
    },
    {
      "cell_type": "code",
      "source": [
        "#23.Write a Python program to replace whitespaces with an underscore and viceversa.\n",
        "import re\n",
        "\n",
        "def replace_whitespace_and_underscore(text, mode='space_to_underscore'):\n",
        "    if mode == 'space_to_underscore':\n",
        "        return re.sub(r'\\s+', '_', text)\n",
        "    elif mode == 'underscore_to_space':\n",
        "        return re.sub(r'_+', ' ', text)\n",
        "    else:\n",
        "        return \"Invalid mode. Use 'space_to_underscore' or 'underscore_to_space'.\"\n",
        "\n",
        "text1 = \"This is a sample text\"\n",
        "text2 = \"This_is_a_sample_text\"\n",
        "\n",
        "print(replace_whitespace_and_underscore(text1, 'space_to_underscore'))\n",
        "print(replace_whitespace_and_underscore(text2, 'underscore_to_space'))"
      ],
      "metadata": {
        "colab": {
          "base_uri": "https://localhost:8080/"
        },
        "id": "8T_gbNPFI6fL",
        "outputId": "42e5ffe0-3aef-436d-a8b4-6ee3393a6e65"
      },
      "execution_count": 23,
      "outputs": [
        {
          "output_type": "stream",
          "name": "stdout",
          "text": [
            "This_is_a_sample_text\n",
            "This is a sample text\n"
          ]
        }
      ]
    },
    {
      "cell_type": "code",
      "source": [
        "#24.Write a python program to extract domain names from an url\n",
        "import re\n",
        "\n",
        "def extract_domain(url):\n",
        "    # This pattern captures domain name after http:// or https:// and optional www.\n",
        "    pattern = r'https?://(?:www\\.)?([^/]+)'\n",
        "    match = re.search(pattern, url)\n",
        "    if match:\n",
        "        return match.group(1)\n",
        "    else:\n",
        "        return \"No domain found\"\n",
        "\n",
        "# Sample usage\n",
        "urls = [\n",
        "    \"https://www.google.com/search\",\n",
        "    \"http://example.org/about\",\n",
        "]\n",
        "\n",
        "for url in urls:\n",
        "    print(f\"{url} → {extract_domain(url)}\")"
      ],
      "metadata": {
        "colab": {
          "base_uri": "https://localhost:8080/"
        },
        "id": "bCRXk4vAI9p0",
        "outputId": "5adfc769-fa7d-40e7-ad9f-44e9215c69fb"
      },
      "execution_count": 24,
      "outputs": [
        {
          "output_type": "stream",
          "name": "stdout",
          "text": [
            "https://www.google.com/search → google.com\n",
            "http://example.org/about → example.org\n"
          ]
        }
      ]
    },
    {
      "cell_type": "code",
      "source": [
        "#25.Write a Python program to convert a date of dd-mm-yyyy format of yyyy-mm-dd format.\n",
        "import re\n",
        "\n",
        "def convert_date_format(date_str):\n",
        "    pattern = r'^(\\d{2})-(\\d{2})-(\\d{4})$'\n",
        "    match = re.match(pattern, date_str)\n",
        "    if match:\n",
        "        day, month, year = match.groups()\n",
        "        return f\"{year}-{month}-{day}\"\n",
        "    else:\n",
        "        return \"Invalid date format\"\n",
        "\n",
        "dates = [\n",
        "    \"06-05-2025\",\n",
        "    \"31-12-1999\",\n",
        "]\n",
        "\n",
        "for d in dates:\n",
        "    print(f\"{d} → {convert_date_format(d)}\")"
      ],
      "metadata": {
        "colab": {
          "base_uri": "https://localhost:8080/"
        },
        "id": "Wh-RPBDeJBrW",
        "outputId": "98f49ca0-88d4-415b-cf92-60c8f80fb6d1"
      },
      "execution_count": 25,
      "outputs": [
        {
          "output_type": "stream",
          "name": "stdout",
          "text": [
            "06-05-2025 → 2025-05-06\n",
            "31-12-1999 → 1999-12-31\n"
          ]
        }
      ]
    },
    {
      "cell_type": "code",
      "source": [
        "#26.Write a Python program to match two words from a list for words starting with 'S'.\n",
        "import re\n",
        "from itertools import combinations\n",
        "\n",
        "def match_s_words(word_list):\n",
        "    s_words = [word for word in word_list if re.match(r'^s', word, re.IGNORECASE)]\n",
        "    return list(combinations(s_words, 2))\n",
        "\n",
        "words = [\"Sun\", \"sky\", \"Cloud\", \"Star\", \"moon\"]\n",
        "pairs = match_s_words(words)\n",
        "print(\"Matching 'S' word pairs:\")\n",
        "for pair in pairs:\n",
        "    print(pair)"
      ],
      "metadata": {
        "colab": {
          "base_uri": "https://localhost:8080/"
        },
        "id": "gHR-cFN6JHlr",
        "outputId": "2af8c1d8-0aeb-4928-fd40-9b83769e737c"
      },
      "execution_count": 26,
      "outputs": [
        {
          "output_type": "stream",
          "name": "stdout",
          "text": [
            "Matching 'S' word pairs:\n",
            "('Sun', 'sky')\n",
            "('Sun', 'Star')\n",
            "('sky', 'Star')\n"
          ]
        }
      ]
    },
    {
      "cell_type": "code",
      "source": [
        "#27.Write a Python program to separate and print numbers of a given string\n",
        "import re\n",
        "\n",
        "def extract_numbers(s):\n",
        "    numbers = re.findall(r'\\d+', s)\n",
        "    return numbers\n",
        "text = \"The price is 45 dollars and 10 cents\"\n",
        "print(\"Extracted numbers:\", extract_numbers(text))"
      ],
      "metadata": {
        "colab": {
          "base_uri": "https://localhost:8080/"
        },
        "id": "BKmZWffUJL5I",
        "outputId": "cf2e16db-0de8-447f-fccc-0950f07e8f39"
      },
      "execution_count": 27,
      "outputs": [
        {
          "output_type": "stream",
          "name": "stdout",
          "text": [
            "Extracted numbers: ['45', '10']\n"
          ]
        }
      ]
    },
    {
      "cell_type": "code",
      "source": [
        "#28.Write a Python program to find all words starting with 'a' or 'e'\n",
        "import re\n",
        "\n",
        "def find_words_starting_with_a_or_e(text):\n",
        "    pattern = r'\\b[aAeE]\\w*'\n",
        "    words = re.findall(pattern, text)\n",
        "    return words\n",
        "\n",
        "text = \"Eagle is a bird and Fox is an animal.\"\n",
        "print(\"Words starting with 'a' or 'e':\", find_words_starting_with_a_or_e(text))"
      ],
      "metadata": {
        "colab": {
          "base_uri": "https://localhost:8080/"
        },
        "id": "Be7rblhCJOqM",
        "outputId": "774a6fe2-ed8a-4d8b-aa07-4b5d8e5557e4"
      },
      "execution_count": 28,
      "outputs": [
        {
          "output_type": "stream",
          "name": "stdout",
          "text": [
            "Words starting with 'a' or 'e': ['Eagle', 'a', 'and', 'an', 'animal']\n"
          ]
        }
      ]
    },
    {
      "cell_type": "code",
      "source": [
        "#29.Write a Python program to separate and print the numbers and their positions.\n",
        "import re\n",
        "\n",
        "def extract_numbers_and_positions(text):\n",
        "    matches = re.finditer(r'\\d+', text)\n",
        "    result = {match.group(): match.start() for match in matches}\n",
        "    return result\n",
        "\n",
        "text = \"There a 2 cats, 15 dogs and 100 birds.\"\n",
        "print(\"Numbers and their positions:\", extract_numbers_and_positions(text))"
      ],
      "metadata": {
        "colab": {
          "base_uri": "https://localhost:8080/"
        },
        "id": "k87D_IuDJRqg",
        "outputId": "392b76e1-5bb4-4482-8d0e-f5765b1d7c79"
      },
      "execution_count": 29,
      "outputs": [
        {
          "output_type": "stream",
          "name": "stdout",
          "text": [
            "Numbers and their positions: {'2': 8, '15': 16, '100': 28}\n"
          ]
        }
      ]
    },
    {
      "cell_type": "code",
      "source": [
        "#30.Write a Python program to abbrevate 'End Of Day' as 'eod'. in a given string.'''import re\n",
        "\n",
        "def abbreviate_end_of_day(text):\n",
        "    return re.sub(r'\\bEnd Of Day\\b', 'eod', text, flags=re.IGNORECASE)\n",
        "text = \"The Meeting is scheduled by the End Of Day\"\n",
        "result = abbreviate_end_of_day(text)\n",
        "print(\"Abbreviated Text:\", result)"
      ],
      "metadata": {
        "colab": {
          "base_uri": "https://localhost:8080/"
        },
        "id": "m53x5PgKJUuR",
        "outputId": "b3973926-ffae-4b9c-e1fd-9e4a930dfa52"
      },
      "execution_count": 30,
      "outputs": [
        {
          "output_type": "stream",
          "name": "stdout",
          "text": [
            "Abbreviated Text: The Meeting is scheduled by the eod\n"
          ]
        }
      ]
    },
    {
      "cell_type": "code",
      "source": [],
      "metadata": {
        "id": "0BWqrAS9JaME"
      },
      "execution_count": null,
      "outputs": []
    }
  ]
}